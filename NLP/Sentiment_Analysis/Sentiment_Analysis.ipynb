{
 "cells": [
  {
   "cell_type": "code",
   "execution_count": 22,
   "metadata": {},
   "outputs": [],
   "source": [
    "import tensorflow as tf\n",
    "from tensorflow.keras.datasets import imdb\n",
    "from tensorflow.keras.layers import *\n",
    "from tensorflow.keras.models import *\n",
    "from tensorflow.keras.datasets import mnist\n",
    "from tensorflow.keras.utils import to_categorical\n",
    "from tensorflow.keras.optimizers import *\n",
    "from tensorflow.keras.preprocessing.text import Tokenizer as tk\n",
    "from sklearn.preprocessing import LabelEncoder\n",
    "from sklearn.model_selection import train_test_split\n",
    "from tensorflow.keras.preprocessing.sequence import pad_sequences\n",
    "from sklearn.preprocessing import LabelEncoder\n",
    "import numpy as np\n",
    "import pandas as pd"
   ]
  },
  {
   "cell_type": "code",
   "execution_count": 28,
   "metadata": {},
   "outputs": [],
   "source": [
    "df=pd.read_csv(\"IMDB Dataset.csv\")"
   ]
  },
  {
   "cell_type": "code",
   "execution_count": 29,
   "metadata": {},
   "outputs": [
    {
     "data": {
      "text/plain": [
       "(50000, 2)"
      ]
     },
     "execution_count": 29,
     "metadata": {},
     "output_type": "execute_result"
    }
   ],
   "source": [
    "df.shape"
   ]
  },
  {
   "cell_type": "code",
   "execution_count": 30,
   "metadata": {},
   "outputs": [
    {
     "data": {
      "text/html": [
       "<div>\n",
       "<style scoped>\n",
       "    .dataframe tbody tr th:only-of-type {\n",
       "        vertical-align: middle;\n",
       "    }\n",
       "\n",
       "    .dataframe tbody tr th {\n",
       "        vertical-align: top;\n",
       "    }\n",
       "\n",
       "    .dataframe thead th {\n",
       "        text-align: right;\n",
       "    }\n",
       "</style>\n",
       "<table border=\"1\" class=\"dataframe\">\n",
       "  <thead>\n",
       "    <tr style=\"text-align: right;\">\n",
       "      <th></th>\n",
       "      <th>review</th>\n",
       "      <th>sentiment</th>\n",
       "    </tr>\n",
       "  </thead>\n",
       "  <tbody>\n",
       "    <tr>\n",
       "      <th>0</th>\n",
       "      <td>One of the other reviewers has mentioned that ...</td>\n",
       "      <td>positive</td>\n",
       "    </tr>\n",
       "    <tr>\n",
       "      <th>1</th>\n",
       "      <td>A wonderful little production. &lt;br /&gt;&lt;br /&gt;The...</td>\n",
       "      <td>positive</td>\n",
       "    </tr>\n",
       "    <tr>\n",
       "      <th>2</th>\n",
       "      <td>I thought this was a wonderful way to spend ti...</td>\n",
       "      <td>positive</td>\n",
       "    </tr>\n",
       "    <tr>\n",
       "      <th>3</th>\n",
       "      <td>Basically there's a family where a little boy ...</td>\n",
       "      <td>negative</td>\n",
       "    </tr>\n",
       "    <tr>\n",
       "      <th>4</th>\n",
       "      <td>Petter Mattei's \"Love in the Time of Money\" is...</td>\n",
       "      <td>positive</td>\n",
       "    </tr>\n",
       "  </tbody>\n",
       "</table>\n",
       "</div>"
      ],
      "text/plain": [
       "                                              review sentiment\n",
       "0  One of the other reviewers has mentioned that ...  positive\n",
       "1  A wonderful little production. <br /><br />The...  positive\n",
       "2  I thought this was a wonderful way to spend ti...  positive\n",
       "3  Basically there's a family where a little boy ...  negative\n",
       "4  Petter Mattei's \"Love in the Time of Money\" is...  positive"
      ]
     },
     "execution_count": 30,
     "metadata": {},
     "output_type": "execute_result"
    }
   ],
   "source": [
    "df.head()"
   ]
  },
  {
   "cell_type": "code",
   "execution_count": 14,
   "metadata": {},
   "outputs": [
    {
     "name": "stderr",
     "output_type": "stream",
     "text": [
      "<string>:6: VisibleDeprecationWarning: Creating an ndarray from ragged nested sequences (which is a list-or-tuple of lists-or-tuples-or ndarrays with different lengths or shapes) is deprecated. If you meant to do this, you must specify 'dtype=object' when creating the ndarray\n",
      "C:\\Users\\37086\\AppData\\Local\\Continuum\\anaconda3\\lib\\site-packages\\tensorflow\\python\\keras\\datasets\\imdb.py:159: VisibleDeprecationWarning: Creating an ndarray from ragged nested sequences (which is a list-or-tuple of lists-or-tuples-or ndarrays with different lengths or shapes) is deprecated. If you meant to do this, you must specify 'dtype=object' when creating the ndarray\n",
      "  x_train, y_train = np.array(xs[:idx]), np.array(labels[:idx])\n",
      "C:\\Users\\37086\\AppData\\Local\\Continuum\\anaconda3\\lib\\site-packages\\tensorflow\\python\\keras\\datasets\\imdb.py:160: VisibleDeprecationWarning: Creating an ndarray from ragged nested sequences (which is a list-or-tuple of lists-or-tuples-or ndarrays with different lengths or shapes) is deprecated. If you meant to do this, you must specify 'dtype=object' when creating the ndarray\n",
      "  x_test, y_test = np.array(xs[idx:]), np.array(labels[idx:])\n"
     ]
    }
   ],
   "source": [
    "#Since this dataset is available to use from keras datasets\n",
    "\n",
    "from tensorflow.keras.datasets import imdb\n",
    "\n",
    "# the data, shuffled and split between train and test sets\n",
    "(xtr, ytr), (xte, yte) = imdb.load_data()"
   ]
  },
  {
   "cell_type": "code",
   "execution_count": 17,
   "metadata": {},
   "outputs": [
    {
     "name": "stdout",
     "output_type": "stream",
     "text": [
      "Training Data shape:  (25000,)\n",
      "Training Label shape:  (25000,)\n",
      "Testing Data shape:  (25000,)\n",
      "Testing Label shape:  (25000,)\n"
     ]
    }
   ],
   "source": [
    "print(\"Training Data shape: \", xtr.shape)\n",
    "print(\"Training Label shape: \", ytr.shape)\n",
    "print(\"Testing Data shape: \", xte.shape)\n",
    "print(\"Testing Label shape: \", yte.shape)"
   ]
  },
  {
   "cell_type": "code",
   "execution_count": 31,
   "metadata": {},
   "outputs": [],
   "source": [
    "encoder = LabelEncoder()\n",
    "\n",
    "df['sentiment'] = encoder.fit_transform(df['sentiment'])"
   ]
  },
  {
   "cell_type": "code",
   "execution_count": 32,
   "metadata": {},
   "outputs": [
    {
     "data": {
      "text/html": [
       "<div>\n",
       "<style scoped>\n",
       "    .dataframe tbody tr th:only-of-type {\n",
       "        vertical-align: middle;\n",
       "    }\n",
       "\n",
       "    .dataframe tbody tr th {\n",
       "        vertical-align: top;\n",
       "    }\n",
       "\n",
       "    .dataframe thead th {\n",
       "        text-align: right;\n",
       "    }\n",
       "</style>\n",
       "<table border=\"1\" class=\"dataframe\">\n",
       "  <thead>\n",
       "    <tr style=\"text-align: right;\">\n",
       "      <th></th>\n",
       "      <th>review</th>\n",
       "      <th>sentiment</th>\n",
       "    </tr>\n",
       "  </thead>\n",
       "  <tbody>\n",
       "    <tr>\n",
       "      <th>0</th>\n",
       "      <td>One of the other reviewers has mentioned that ...</td>\n",
       "      <td>1</td>\n",
       "    </tr>\n",
       "    <tr>\n",
       "      <th>1</th>\n",
       "      <td>A wonderful little production. &lt;br /&gt;&lt;br /&gt;The...</td>\n",
       "      <td>1</td>\n",
       "    </tr>\n",
       "    <tr>\n",
       "      <th>2</th>\n",
       "      <td>I thought this was a wonderful way to spend ti...</td>\n",
       "      <td>1</td>\n",
       "    </tr>\n",
       "    <tr>\n",
       "      <th>3</th>\n",
       "      <td>Basically there's a family where a little boy ...</td>\n",
       "      <td>0</td>\n",
       "    </tr>\n",
       "    <tr>\n",
       "      <th>4</th>\n",
       "      <td>Petter Mattei's \"Love in the Time of Money\" is...</td>\n",
       "      <td>1</td>\n",
       "    </tr>\n",
       "  </tbody>\n",
       "</table>\n",
       "</div>"
      ],
      "text/plain": [
       "                                              review  sentiment\n",
       "0  One of the other reviewers has mentioned that ...          1\n",
       "1  A wonderful little production. <br /><br />The...          1\n",
       "2  I thought this was a wonderful way to spend ti...          1\n",
       "3  Basically there's a family where a little boy ...          0\n",
       "4  Petter Mattei's \"Love in the Time of Money\" is...          1"
      ]
     },
     "execution_count": 32,
     "metadata": {},
     "output_type": "execute_result"
    }
   ],
   "source": [
    "df.head()"
   ]
  },
  {
   "cell_type": "code",
   "execution_count": 33,
   "metadata": {},
   "outputs": [],
   "source": [
    "X = np.array(df.drop(columns=['sentiment'])).reshape(len(df),)\n",
    "y = np.array(df['sentiment'])"
   ]
  },
  {
   "cell_type": "code",
   "execution_count": 34,
   "metadata": {},
   "outputs": [],
   "source": [
    "xtr , xte , ytr, yte = train_test_split(X,y,shuffle=True,test_size = 0.1,stratify=y)"
   ]
  },
  {
   "cell_type": "code",
   "execution_count": 35,
   "metadata": {},
   "outputs": [],
   "source": [
    "tok=tk(num_words=10000, filters='!\"#$%&()*+,-./:;<=>?@[\\\\]^_`{|}~\\t\\n',lower=True, split=' ',char_level=False, oov_token='Farid')"
   ]
  },
  {
   "cell_type": "code",
   "execution_count": 36,
   "metadata": {},
   "outputs": [],
   "source": [
    "tok.fit_on_texts(xtr)"
   ]
  },
  {
   "cell_type": "code",
   "execution_count": 37,
   "metadata": {},
   "outputs": [],
   "source": [
    "xtr1 = tok.texts_to_sequences(xtr)\n",
    "xte1 = tok.texts_to_sequences(xte)"
   ]
  },
  {
   "cell_type": "code",
   "execution_count": 38,
   "metadata": {},
   "outputs": [],
   "source": [
    "xtr2 = pad_sequences(xtr1,1000, padding='post',truncating='post')\n",
    "xte2 = pad_sequences(xte1,1000, padding='post', truncating='post')"
   ]
  },
  {
   "cell_type": "code",
   "execution_count": 39,
   "metadata": {},
   "outputs": [],
   "source": [
    "xtr3 = np.flip(xtr2, 1)\n",
    "xte3 = np.flip(xte2, 1)"
   ]
  },
  {
   "cell_type": "code",
   "execution_count": 40,
   "metadata": {},
   "outputs": [
    {
     "name": "stdout",
     "output_type": "stream",
     "text": [
      "(45000, 1000)\n",
      "(5000, 1000)\n"
     ]
    }
   ],
   "source": [
    "print(xtr3.shape)\n",
    "print(xte3.shape)"
   ]
  },
  {
   "cell_type": "code",
   "execution_count": 41,
   "metadata": {},
   "outputs": [],
   "source": [
    "embedding_vecor_length = 50\n",
    "max_review_length = 1000\n",
    "NUM_WORDS = 10000\n",
    "\n",
    "model = Sequential()\n",
    "model.add(Embedding(NUM_WORDS, embedding_vecor_length, input_length=max_review_length))\n",
    "model.add(Conv1D(filters=100, kernel_size=3, padding='same', activation='relu'))\n",
    "model.add(MaxPooling1D())\n",
    "model.add(GRU(50, return_sequences=True))\n",
    "model.add(GRU(50))\n",
    "model.add(Dropout(0.5))\n",
    "model.add(Dense(100,activation='relu'))\n",
    "model.add(Dense(1, activation='sigmoid'))"
   ]
  },
  {
   "cell_type": "code",
   "execution_count": 42,
   "metadata": {},
   "outputs": [
    {
     "name": "stdout",
     "output_type": "stream",
     "text": [
      "Model: \"sequential\"\n",
      "_________________________________________________________________\n",
      "Layer (type)                 Output Shape              Param #   \n",
      "=================================================================\n",
      "embedding (Embedding)        (None, 1000, 50)          500000    \n",
      "_________________________________________________________________\n",
      "conv1d (Conv1D)              (None, 1000, 100)         15100     \n",
      "_________________________________________________________________\n",
      "max_pooling1d (MaxPooling1D) (None, 500, 100)          0         \n",
      "_________________________________________________________________\n",
      "gru (GRU)                    (None, 500, 50)           22800     \n",
      "_________________________________________________________________\n",
      "gru_1 (GRU)                  (None, 50)                15300     \n",
      "_________________________________________________________________\n",
      "dropout (Dropout)            (None, 50)                0         \n",
      "_________________________________________________________________\n",
      "dense (Dense)                (None, 100)               5100      \n",
      "_________________________________________________________________\n",
      "dense_1 (Dense)              (None, 1)                 101       \n",
      "=================================================================\n",
      "Total params: 558,401\n",
      "Trainable params: 558,401\n",
      "Non-trainable params: 0\n",
      "_________________________________________________________________\n"
     ]
    }
   ],
   "source": [
    "model.compile(optimizer='adam', loss='binary_crossentropy',metrics='accuracy')\n",
    "model.summary()"
   ]
  },
  {
   "cell_type": "code",
   "execution_count": 43,
   "metadata": {},
   "outputs": [
    {
     "name": "stdout",
     "output_type": "stream",
     "text": [
      "Epoch 1/5\n",
      "450/450 [==============================] - 713s 2s/step - loss: 0.5414 - accuracy: 0.6876 - val_loss: 0.2753 - val_accuracy: 0.8934\n",
      "Epoch 2/5\n",
      "450/450 [==============================] - 686s 2s/step - loss: 0.2212 - accuracy: 0.9185 - val_loss: 0.2618 - val_accuracy: 0.9052\n",
      "Epoch 3/5\n",
      "450/450 [==============================] - 694s 2s/step - loss: 0.1585 - accuracy: 0.9452 - val_loss: 0.2586 - val_accuracy: 0.9052\n",
      "Epoch 4/5\n",
      "450/450 [==============================] - 700s 2s/step - loss: 0.1137 - accuracy: 0.9624 - val_loss: 0.2619 - val_accuracy: 0.9024\n",
      "Epoch 5/5\n",
      "450/450 [==============================] - 1465s 3s/step - loss: 0.0836 - accuracy: 0.9734 - val_loss: 0.2834 - val_accuracy: 0.9024\n"
     ]
    },
    {
     "data": {
      "text/plain": [
       "<tensorflow.python.keras.callbacks.History at 0x2c09eb1a4e0>"
      ]
     },
     "execution_count": 43,
     "metadata": {},
     "output_type": "execute_result"
    }
   ],
   "source": [
    "model.fit(xtr3,ytr,epochs=5,batch_size=100,validation_data = (xte3,yte),shuffle=True)"
   ]
  },
  {
   "cell_type": "code",
   "execution_count": 44,
   "metadata": {},
   "outputs": [
    {
     "name": "stdout",
     "output_type": "stream",
     "text": [
      "Accuracy:  90.24 %\n"
     ]
    }
   ],
   "source": [
    "print(\"Accuracy: \", np.round(model.evaluate(xte3,yte,verbose=0)[1]*100,3),\"%\")"
   ]
  },
  {
   "cell_type": "code",
   "execution_count": 46,
   "metadata": {},
   "outputs": [
    {
     "name": "stdout",
     "output_type": "stream",
     "text": [
      "Review:   Week after week these women just sweep all the men of their feet. Get real. None of these women are \"Knockouts\". Carrie (Sarah Jessica Parker) looks like the type of woman men would pick up at !:45am before the bar closed after their vision and standards were equally impaired by ten or eleven martinis. Yet she's the queen bee, a super-sexy man-killer. The other three don't fare much better. And their constant foul mouthed comments.....not to mention that they jump in and out of bed with strange men and never catch a disease. This show is pathetic .and creepy.I don't think any man would be terribly attracted to any of these women, even if he popped Viagra like Tic Tacs while on shore leave.\n",
      "\n",
      "\n",
      "Actual review status:  Negative\n",
      "Predicted review status:  Negative\n",
      "\n",
      "Review:   The reasons to watch this knock off... err... tribute to a great movie called Se7en: - It's on while your channel surfing and there's nothing else on. - Someone pays you to watch it.<br /><br />Do yourself a favor and pop in the DVD for Se7en, rent it, download it on iTunes, or put it in your Netflix cue and skip The Flock entirely. The Flock the same story with with a few changes. Furthermore the editing just wreaks of Se7en and actually ends up taking you out of the story several times. The worst one is probably the fly over desert helicopter shots, with sounds of people people chattering over the radio, except there are no police helicopters flying overhead in this one.<br /><br />Bottom line: I call it a blatant knock off. If you wanna be nice you can call it a tribute film, go ahead, but either way go watch Se7en.\n",
      "\n",
      "\n",
      "Actual review status:  Negative\n",
      "Predicted review status:  Negative\n",
      "\n",
      "Review:   This movie makes you think. It shows how a woman's weaknesses can result in nightmares for others. Her physically aggressive behavior is more often seen in men than women, so it made me feel even more uncomfortable to see the way the lead actress behaved. I think that women might think about this behavior, but I don't think they act on it. The dark scenes added to the sense of evil that needed to be hidden. I was relieved when the prisoners escaped. I was hopeful that the end would bring a satisfying solution, but it did not. Maybe that is more realistic. Life seems to run in the same direction instead of creating a new river bed running up hill.\n",
      "\n",
      "\n",
      "Actual review status:  Positive\n",
      "Predicted review status:  Positive\n",
      "\n",
      "Review:   I got this DVD well over 2 years ago and only decided to watch it yesterday. I don't know why it took me so long as I do like the Inspector Gadget show and even the new Gadget and the Gadgetinis. While it may have a bright color pallet and all the technical sophistication of a modern animated movie, there are some old things missing that bog this Gadget right down the toilet.<br /><br />First of all the classic Inspector Gadget theme song and music is completely absent. The composer tries to compromise by doing a score that sounds similar but it's still just no good enough. The Gadget-mobile is now a talking car, not a car that can turn into a van. Plus it looks a lot cuter and rounder instead of being plain cool. Penny no longer has her computer book and she and Brain hardly make an appearance at all.<br /><br />The plot is non-existent. There's something about a transformation formula and Doctor Claw using for some never revealed evil but that's all I got. What the deal was with the short/giant Italian guy I will never know. It had nothing to do with anything.<br /><br />And if the title is anything to go by, his last case is wrapped up in no way whatsoever. And he stays on the force so why it's called 'last case' is a mystery also.<br /><br />I wasn't impressed at all. This is an affront to a great animated show that is strangely absent on DVD, but don't let that prompt you into buying whatever Inspector Gadget DVDs you can. I sold this mere seconds after finally watching it. No kid will like or appreciate this and no fan of the old show with tolerate it.\n",
      "\n",
      "\n",
      "Actual review status:  Negative\n",
      "Predicted review status:  Negative\n",
      "\n"
     ]
    }
   ],
   "source": [
    "review_num = 4\n",
    "random_indexs = []\n",
    "random_reviews = []\n",
    "\n",
    "for _ in range(review_num):\n",
    "    rand_index = np.random.randint(0,xte.shape[0])\n",
    "    random_indexs.append(rand_index)\n",
    "    random_reviews.append(xte3[rand_index])\n",
    "\n",
    "random_reviews = np.array(random_reviews)\n",
    "predictions = (model.predict(random_reviews) > 0.5).astype('int32').reshape(review_num,)\n",
    "\n",
    "for i,index in enumerate(random_indexs):\n",
    "    print(\"Review:  \" , xte[index],end=\"\\n\\n\\n\")\n",
    "    actual_review = \"Positive\" if yte[index] == 1 else \"Negative\"\n",
    "    predicted_review = \"Positive\" if predictions[i] == 1 else \"Negative\"\n",
    "    print(\"Actual review status: \",actual_review)\n",
    "    print(\"Predicted review status: \",predicted_review,end='\\n\\n')"
   ]
  },
  {
   "cell_type": "code",
   "execution_count": null,
   "metadata": {},
   "outputs": [],
   "source": []
  }
 ],
 "metadata": {
  "kernelspec": {
   "display_name": "Python 3",
   "language": "python",
   "name": "python3"
  },
  "language_info": {
   "codemirror_mode": {
    "name": "ipython",
    "version": 3
   },
   "file_extension": ".py",
   "mimetype": "text/x-python",
   "name": "python",
   "nbconvert_exporter": "python",
   "pygments_lexer": "ipython3",
   "version": "3.7.3"
  }
 },
 "nbformat": 4,
 "nbformat_minor": 2
}
