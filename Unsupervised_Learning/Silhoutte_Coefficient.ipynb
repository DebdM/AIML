{
 "cells": [
  {
   "cell_type": "code",
   "execution_count": 16,
   "metadata": {},
   "outputs": [],
   "source": [
    "import pandas as pd\n",
    "import numpy as np\n",
    "import matplotlib.pyplot as plt \n",
    "%matplotlib inline\n",
    "import seaborn as sns"
   ]
  },
  {
   "cell_type": "code",
   "execution_count": 2,
   "metadata": {},
   "outputs": [
    {
     "data": {
      "text/plain": [
       "(180, 7)"
      ]
     },
     "execution_count": 2,
     "metadata": {},
     "output_type": "execute_result"
    }
   ],
   "source": [
    "df = pd.read_csv(\"Part4 - batting_bowling_ipl_bat.csv\")\n",
    "df.shape"
   ]
  },
  {
   "cell_type": "code",
   "execution_count": 10,
   "metadata": {},
   "outputs": [
    {
     "data": {
      "text/html": [
       "<div>\n",
       "<style scoped>\n",
       "    .dataframe tbody tr th:only-of-type {\n",
       "        vertical-align: middle;\n",
       "    }\n",
       "\n",
       "    .dataframe tbody tr th {\n",
       "        vertical-align: top;\n",
       "    }\n",
       "\n",
       "    .dataframe thead th {\n",
       "        text-align: right;\n",
       "    }\n",
       "</style>\n",
       "<table border=\"1\" class=\"dataframe\">\n",
       "  <thead>\n",
       "    <tr style=\"text-align: right;\">\n",
       "      <th></th>\n",
       "      <th>Name</th>\n",
       "      <th>Runs</th>\n",
       "      <th>Ave</th>\n",
       "      <th>SR</th>\n",
       "      <th>Fours</th>\n",
       "      <th>Sixes</th>\n",
       "      <th>HF</th>\n",
       "    </tr>\n",
       "  </thead>\n",
       "  <tbody>\n",
       "    <tr>\n",
       "      <th>0</th>\n",
       "      <td>NaN</td>\n",
       "      <td>NaN</td>\n",
       "      <td>NaN</td>\n",
       "      <td>NaN</td>\n",
       "      <td>NaN</td>\n",
       "      <td>NaN</td>\n",
       "      <td>NaN</td>\n",
       "    </tr>\n",
       "    <tr>\n",
       "      <th>1</th>\n",
       "      <td>CH Gayle</td>\n",
       "      <td>733.0</td>\n",
       "      <td>61.08</td>\n",
       "      <td>160.74</td>\n",
       "      <td>46.0</td>\n",
       "      <td>59.0</td>\n",
       "      <td>9.0</td>\n",
       "    </tr>\n",
       "    <tr>\n",
       "      <th>2</th>\n",
       "      <td>NaN</td>\n",
       "      <td>NaN</td>\n",
       "      <td>NaN</td>\n",
       "      <td>NaN</td>\n",
       "      <td>NaN</td>\n",
       "      <td>NaN</td>\n",
       "      <td>NaN</td>\n",
       "    </tr>\n",
       "    <tr>\n",
       "      <th>3</th>\n",
       "      <td>G Gambhir</td>\n",
       "      <td>590.0</td>\n",
       "      <td>36.87</td>\n",
       "      <td>143.55</td>\n",
       "      <td>64.0</td>\n",
       "      <td>17.0</td>\n",
       "      <td>6.0</td>\n",
       "    </tr>\n",
       "    <tr>\n",
       "      <th>4</th>\n",
       "      <td>NaN</td>\n",
       "      <td>NaN</td>\n",
       "      <td>NaN</td>\n",
       "      <td>NaN</td>\n",
       "      <td>NaN</td>\n",
       "      <td>NaN</td>\n",
       "      <td>NaN</td>\n",
       "    </tr>\n",
       "    <tr>\n",
       "      <th>5</th>\n",
       "      <td>V Sehwag</td>\n",
       "      <td>495.0</td>\n",
       "      <td>33.00</td>\n",
       "      <td>161.23</td>\n",
       "      <td>57.0</td>\n",
       "      <td>19.0</td>\n",
       "      <td>5.0</td>\n",
       "    </tr>\n",
       "    <tr>\n",
       "      <th>6</th>\n",
       "      <td>NaN</td>\n",
       "      <td>NaN</td>\n",
       "      <td>NaN</td>\n",
       "      <td>NaN</td>\n",
       "      <td>NaN</td>\n",
       "      <td>NaN</td>\n",
       "      <td>NaN</td>\n",
       "    </tr>\n",
       "    <tr>\n",
       "      <th>7</th>\n",
       "      <td>CL White</td>\n",
       "      <td>479.0</td>\n",
       "      <td>43.54</td>\n",
       "      <td>149.68</td>\n",
       "      <td>41.0</td>\n",
       "      <td>20.0</td>\n",
       "      <td>5.0</td>\n",
       "    </tr>\n",
       "    <tr>\n",
       "      <th>8</th>\n",
       "      <td>NaN</td>\n",
       "      <td>NaN</td>\n",
       "      <td>NaN</td>\n",
       "      <td>NaN</td>\n",
       "      <td>NaN</td>\n",
       "      <td>NaN</td>\n",
       "      <td>NaN</td>\n",
       "    </tr>\n",
       "    <tr>\n",
       "      <th>9</th>\n",
       "      <td>S Dhawan</td>\n",
       "      <td>569.0</td>\n",
       "      <td>40.64</td>\n",
       "      <td>129.61</td>\n",
       "      <td>58.0</td>\n",
       "      <td>18.0</td>\n",
       "      <td>5.0</td>\n",
       "    </tr>\n",
       "    <tr>\n",
       "      <th>10</th>\n",
       "      <td>NaN</td>\n",
       "      <td>NaN</td>\n",
       "      <td>NaN</td>\n",
       "      <td>NaN</td>\n",
       "      <td>NaN</td>\n",
       "      <td>NaN</td>\n",
       "      <td>NaN</td>\n",
       "    </tr>\n",
       "    <tr>\n",
       "      <th>11</th>\n",
       "      <td>AM Rahane</td>\n",
       "      <td>560.0</td>\n",
       "      <td>40.00</td>\n",
       "      <td>129.33</td>\n",
       "      <td>73.0</td>\n",
       "      <td>10.0</td>\n",
       "      <td>5.0</td>\n",
       "    </tr>\n",
       "    <tr>\n",
       "      <th>12</th>\n",
       "      <td>NaN</td>\n",
       "      <td>NaN</td>\n",
       "      <td>NaN</td>\n",
       "      <td>NaN</td>\n",
       "      <td>NaN</td>\n",
       "      <td>NaN</td>\n",
       "      <td>NaN</td>\n",
       "    </tr>\n",
       "    <tr>\n",
       "      <th>13</th>\n",
       "      <td>KP Pietersen</td>\n",
       "      <td>305.0</td>\n",
       "      <td>61.00</td>\n",
       "      <td>147.34</td>\n",
       "      <td>22.0</td>\n",
       "      <td>20.0</td>\n",
       "      <td>3.0</td>\n",
       "    </tr>\n",
       "    <tr>\n",
       "      <th>14</th>\n",
       "      <td>NaN</td>\n",
       "      <td>NaN</td>\n",
       "      <td>NaN</td>\n",
       "      <td>NaN</td>\n",
       "      <td>NaN</td>\n",
       "      <td>NaN</td>\n",
       "      <td>NaN</td>\n",
       "    </tr>\n",
       "    <tr>\n",
       "      <th>15</th>\n",
       "      <td>RG Sharma</td>\n",
       "      <td>433.0</td>\n",
       "      <td>30.92</td>\n",
       "      <td>126.60</td>\n",
       "      <td>39.0</td>\n",
       "      <td>18.0</td>\n",
       "      <td>5.0</td>\n",
       "    </tr>\n",
       "    <tr>\n",
       "      <th>16</th>\n",
       "      <td>NaN</td>\n",
       "      <td>NaN</td>\n",
       "      <td>NaN</td>\n",
       "      <td>NaN</td>\n",
       "      <td>NaN</td>\n",
       "      <td>NaN</td>\n",
       "      <td>NaN</td>\n",
       "    </tr>\n",
       "    <tr>\n",
       "      <th>17</th>\n",
       "      <td>AB de Villiers</td>\n",
       "      <td>319.0</td>\n",
       "      <td>39.87</td>\n",
       "      <td>161.11</td>\n",
       "      <td>26.0</td>\n",
       "      <td>15.0</td>\n",
       "      <td>3.0</td>\n",
       "    </tr>\n",
       "    <tr>\n",
       "      <th>18</th>\n",
       "      <td>NaN</td>\n",
       "      <td>NaN</td>\n",
       "      <td>NaN</td>\n",
       "      <td>NaN</td>\n",
       "      <td>NaN</td>\n",
       "      <td>NaN</td>\n",
       "      <td>NaN</td>\n",
       "    </tr>\n",
       "    <tr>\n",
       "      <th>19</th>\n",
       "      <td>JP Duminy</td>\n",
       "      <td>244.0</td>\n",
       "      <td>81.33</td>\n",
       "      <td>128.42</td>\n",
       "      <td>13.0</td>\n",
       "      <td>11.0</td>\n",
       "      <td>2.0</td>\n",
       "    </tr>\n",
       "  </tbody>\n",
       "</table>\n",
       "</div>"
      ],
      "text/plain": [
       "              Name   Runs    Ave      SR  Fours  Sixes   HF\n",
       "0              NaN    NaN    NaN     NaN    NaN    NaN  NaN\n",
       "1         CH Gayle  733.0  61.08  160.74   46.0   59.0  9.0\n",
       "2              NaN    NaN    NaN     NaN    NaN    NaN  NaN\n",
       "3        G Gambhir  590.0  36.87  143.55   64.0   17.0  6.0\n",
       "4              NaN    NaN    NaN     NaN    NaN    NaN  NaN\n",
       "5         V Sehwag  495.0  33.00  161.23   57.0   19.0  5.0\n",
       "6              NaN    NaN    NaN     NaN    NaN    NaN  NaN\n",
       "7         CL White  479.0  43.54  149.68   41.0   20.0  5.0\n",
       "8              NaN    NaN    NaN     NaN    NaN    NaN  NaN\n",
       "9         S Dhawan  569.0  40.64  129.61   58.0   18.0  5.0\n",
       "10             NaN    NaN    NaN     NaN    NaN    NaN  NaN\n",
       "11       AM Rahane  560.0  40.00  129.33   73.0   10.0  5.0\n",
       "12             NaN    NaN    NaN     NaN    NaN    NaN  NaN\n",
       "13    KP Pietersen  305.0  61.00  147.34   22.0   20.0  3.0\n",
       "14             NaN    NaN    NaN     NaN    NaN    NaN  NaN\n",
       "15       RG Sharma  433.0  30.92  126.60   39.0   18.0  5.0\n",
       "16             NaN    NaN    NaN     NaN    NaN    NaN  NaN\n",
       "17  AB de Villiers  319.0  39.87  161.11   26.0   15.0  3.0\n",
       "18             NaN    NaN    NaN     NaN    NaN    NaN  NaN\n",
       "19       JP Duminy  244.0  81.33  128.42   13.0   11.0  2.0"
      ]
     },
     "execution_count": 10,
     "metadata": {},
     "output_type": "execute_result"
    }
   ],
   "source": [
    "df.head(20)"
   ]
  },
  {
   "cell_type": "code",
   "execution_count": 9,
   "metadata": {},
   "outputs": [
    {
     "data": {
      "text/html": [
       "<div>\n",
       "<style scoped>\n",
       "    .dataframe tbody tr th:only-of-type {\n",
       "        vertical-align: middle;\n",
       "    }\n",
       "\n",
       "    .dataframe tbody tr th {\n",
       "        vertical-align: top;\n",
       "    }\n",
       "\n",
       "    .dataframe thead th {\n",
       "        text-align: right;\n",
       "    }\n",
       "</style>\n",
       "<table border=\"1\" class=\"dataframe\">\n",
       "  <thead>\n",
       "    <tr style=\"text-align: right;\">\n",
       "      <th></th>\n",
       "      <th>count</th>\n",
       "      <th>mean</th>\n",
       "      <th>std</th>\n",
       "      <th>min</th>\n",
       "      <th>25%</th>\n",
       "      <th>50%</th>\n",
       "      <th>75%</th>\n",
       "      <th>max</th>\n",
       "    </tr>\n",
       "  </thead>\n",
       "  <tbody>\n",
       "    <tr>\n",
       "      <th>Runs</th>\n",
       "      <td>90.0</td>\n",
       "      <td>219.933333</td>\n",
       "      <td>156.253669</td>\n",
       "      <td>2.00</td>\n",
       "      <td>98.000</td>\n",
       "      <td>196.500</td>\n",
       "      <td>330.7500</td>\n",
       "      <td>733.00</td>\n",
       "    </tr>\n",
       "    <tr>\n",
       "      <th>Ave</th>\n",
       "      <td>90.0</td>\n",
       "      <td>24.729889</td>\n",
       "      <td>13.619215</td>\n",
       "      <td>0.50</td>\n",
       "      <td>14.665</td>\n",
       "      <td>24.440</td>\n",
       "      <td>32.1950</td>\n",
       "      <td>81.33</td>\n",
       "    </tr>\n",
       "    <tr>\n",
       "      <th>SR</th>\n",
       "      <td>90.0</td>\n",
       "      <td>119.164111</td>\n",
       "      <td>23.656547</td>\n",
       "      <td>18.18</td>\n",
       "      <td>108.745</td>\n",
       "      <td>120.135</td>\n",
       "      <td>131.9975</td>\n",
       "      <td>164.10</td>\n",
       "    </tr>\n",
       "    <tr>\n",
       "      <th>Fours</th>\n",
       "      <td>90.0</td>\n",
       "      <td>19.788889</td>\n",
       "      <td>16.399845</td>\n",
       "      <td>0.00</td>\n",
       "      <td>6.250</td>\n",
       "      <td>16.000</td>\n",
       "      <td>28.0000</td>\n",
       "      <td>73.00</td>\n",
       "    </tr>\n",
       "    <tr>\n",
       "      <th>Sixes</th>\n",
       "      <td>90.0</td>\n",
       "      <td>7.577778</td>\n",
       "      <td>8.001373</td>\n",
       "      <td>0.00</td>\n",
       "      <td>3.000</td>\n",
       "      <td>6.000</td>\n",
       "      <td>10.0000</td>\n",
       "      <td>59.00</td>\n",
       "    </tr>\n",
       "    <tr>\n",
       "      <th>HF</th>\n",
       "      <td>90.0</td>\n",
       "      <td>1.188889</td>\n",
       "      <td>1.688656</td>\n",
       "      <td>0.00</td>\n",
       "      <td>0.000</td>\n",
       "      <td>0.500</td>\n",
       "      <td>2.0000</td>\n",
       "      <td>9.00</td>\n",
       "    </tr>\n",
       "  </tbody>\n",
       "</table>\n",
       "</div>"
      ],
      "text/plain": [
       "       count        mean         std    min      25%      50%       75%  \\\n",
       "Runs    90.0  219.933333  156.253669   2.00   98.000  196.500  330.7500   \n",
       "Ave     90.0   24.729889   13.619215   0.50   14.665   24.440   32.1950   \n",
       "SR      90.0  119.164111   23.656547  18.18  108.745  120.135  131.9975   \n",
       "Fours   90.0   19.788889   16.399845   0.00    6.250   16.000   28.0000   \n",
       "Sixes   90.0    7.577778    8.001373   0.00    3.000    6.000   10.0000   \n",
       "HF      90.0    1.188889    1.688656   0.00    0.000    0.500    2.0000   \n",
       "\n",
       "          max  \n",
       "Runs   733.00  \n",
       "Ave     81.33  \n",
       "SR     164.10  \n",
       "Fours   73.00  \n",
       "Sixes   59.00  \n",
       "HF       9.00  "
      ]
     },
     "execution_count": 9,
     "metadata": {},
     "output_type": "execute_result"
    }
   ],
   "source": [
    "df.describe().transpose()"
   ]
  },
  {
   "cell_type": "markdown",
   "metadata": {},
   "source": [
    "So, the dataset is such that every legitimate row of data is followed by a NaN row. Let's drop the NaN rows from the dataframe."
   ]
  },
  {
   "cell_type": "code",
   "execution_count": 13,
   "metadata": {},
   "outputs": [
    {
     "data": {
      "text/plain": [
       "(90, 7)"
      ]
     },
     "execution_count": 13,
     "metadata": {},
     "output_type": "execute_result"
    }
   ],
   "source": [
    "df = df.dropna()\n",
    "df.shape"
   ]
  },
  {
   "cell_type": "code",
   "execution_count": 17,
   "metadata": {},
   "outputs": [
    {
     "data": {
      "image/png": "[encoded data removed]",
      "text/plain": [
       "<Figure size 1080x576 with 1 Axes>"
      ]
     },
     "metadata": {
      "needs_background": "light"
     },
     "output_type": "display_data"
    }
   ],
   "source": [
    "plt.figure(figsize=(15,8))\n",
    "b1=df.groupby('Name')['Runs'].sum().sort_values(ascending = False ).head(10)\n",
    "b1= b1.reset_index() \n",
    "b1.columns = ['Name' ,'Runs']\n",
    "sns.barplot(data= b1 , x= 'Name' , y ='Runs');\n",
    "plt.title(\"Top 10 Players by Runs\");"
   ]
  },
  {
   "cell_type": "code",
   "execution_count": 18,
   "metadata": {},
   "outputs": [
    {
     "data": {
      "image/png": "[encoded data removed]",
      "text/plain": [
       "<Figure size 1080x576 with 1 Axes>"
      ]
     },
     "metadata": {
      "needs_background": "light"
     },
     "output_type": "display_data"
    }
   ],
   "source": [
    "plt.figure(figsize=(15,8))\n",
    "b1=df.groupby('Name')['Ave'].sum().sort_values(ascending = False ).head(10)\n",
    "b1= b1.reset_index() \n",
    "b1.columns = ['Name' ,'Ave']\n",
    "sns.barplot(data= b1 , x= 'Name' , y ='Ave')\n",
    "plt.title(\"Top 10 players by Average\");"
   ]
  },
  {
   "cell_type": "code",
   "execution_count": 19,
   "metadata": {},
   "outputs": [
    {
     "data": {
      "image/png": "[encoded data removed]",
      "text/plain": [
       "<Figure size 1080x576 with 1 Axes>"
      ]
     },
     "metadata": {
      "needs_background": "light"
     },
     "output_type": "display_data"
    }
   ],
   "source": [
    "plt.figure(figsize=(15,8))\n",
    "b1=df.groupby('Name')['SR'].sum().sort_values(ascending = False ).head(10)\n",
    "b1= b1.reset_index() \n",
    "b1.columns = ['Name' ,'SR']\n",
    "sns.barplot(data= b1 , x= 'Name' , y ='SR')\n",
    "plt.title(\"Top 10 players by Strike Rate\");"
   ]
  },
  {
   "cell_type": "markdown",
   "metadata": {},
   "source": [
    "In other formats of cricket (like ODI or Test), we wouldn't consider number of 4s and 6s as true indicators of batsmanship, but in IPL (T20 in general) these are very important."
   ]
  },
  {
   "cell_type": "code",
   "execution_count": 20,
   "metadata": {},
   "outputs": [
    {
     "data": {
      "image/png": "[encoded data removed]",
      "text/plain": [
       "<Figure size 1080x576 with 1 Axes>"
      ]
     },
     "metadata": {
      "needs_background": "light"
     },
     "output_type": "display_data"
    }
   ],
   "source": [
    "plt.figure(figsize=(15,8))\n",
    "b1=df.groupby('Name')['Fours'].sum().sort_values(ascending = False ).head(10)\n",
    "b1= b1.reset_index() \n",
    "b1.columns = ['Name' ,'Fours']\n",
    "sns.barplot(data= b1 , x= 'Name' , y ='Fours')\n",
    "plt.title(\"Top 10 players by Fours\");"
   ]
  },
  {
   "cell_type": "code",
   "execution_count": 21,
   "metadata": {},
   "outputs": [
    {
     "data": {
      "image/png": "[encoded data removed]",
      "text/plain": [
       "<Figure size 1080x576 with 1 Axes>"
      ]
     },
     "metadata": {
      "needs_background": "light"
     },
     "output_type": "display_data"
    }
   ],
   "source": [
    "plt.figure(figsize=(15,8))\n",
    "b1=df.groupby('Name')['Sixes'].sum().sort_values(ascending = False ).head(10)\n",
    "b1= b1.reset_index() \n",
    "b1.columns = ['Name' ,'Sixes']\n",
    "sns.barplot(data= b1 , x= 'Name' , y ='Sixes')\n",
    "plt.title(\"Top 10 players by Sixes\");"
   ]
  },
  {
   "cell_type": "markdown",
   "metadata": {},
   "source": [
    "Chris Gayle is miles apart than others when it comes to hitting sixes!"
   ]
  },
  {
   "cell_type": "code",
   "execution_count": 22,
   "metadata": {},
   "outputs": [
    {
     "data": {
      "image/png": "[encoded data removed]",
      "text/plain": [
       "<Figure size 1080x576 with 1 Axes>"
      ]
     },
     "metadata": {
      "needs_background": "light"
     },
     "output_type": "display_data"
    }
   ],
   "source": [
    "plt.figure(figsize=(15,8))\n",
    "b1=df.groupby('Name')['HF'].sum().sort_values(ascending = False ).head(10)\n",
    "b1= b1.reset_index() \n",
    "b1.columns = ['Name' ,'HF']\n",
    "sns.barplot(data= b1 , x= 'Name' , y ='HF')\n",
    "plt.title(\"Top 10 players by Half Centuries\");"
   ]
  },
  {
   "cell_type": "code",
   "execution_count": 23,
   "metadata": {},
   "outputs": [
    {
     "data": {
      "image/png": "[encoded data removed]",
      "text/plain": [
       "<Figure size 720x576 with 2 Axes>"
      ]
     },
     "metadata": {
      "needs_background": "light"
     },
     "output_type": "display_data"
    }
   ],
   "source": [
    "#checking for correlation\n",
    "plt.figure(figsize=(10,8))\n",
    "corr=df.drop(columns='Name').corr()\n",
    "sns.heatmap(corr,annot=True);"
   ]
  },
  {
   "cell_type": "markdown",
   "metadata": {},
   "source": [
    "<b>Insights</b>: \n",
    "- High correlation of Runs with Fours, Sixes & Half centuries\n",
    "- Strike Rate & Average look to be the most independent variables."
   ]
  },
  {
   "cell_type": "code",
   "execution_count": 30,
   "metadata": {},
   "outputs": [
    {
     "data": {
      "text/html": [
       "<div>\n",
       "<style scoped>\n",
       "    .dataframe tbody tr th:only-of-type {\n",
       "        vertical-align: middle;\n",
       "    }\n",
       "\n",
       "    .dataframe tbody tr th {\n",
       "        vertical-align: top;\n",
       "    }\n",
       "\n",
       "    .dataframe thead th {\n",
       "        text-align: right;\n",
       "    }\n",
       "</style>\n",
       "<table border=\"1\" class=\"dataframe\">\n",
       "  <thead>\n",
       "    <tr style=\"text-align: right;\">\n",
       "      <th></th>\n",
       "      <th>Runs</th>\n",
       "      <th>Ave</th>\n",
       "      <th>SR</th>\n",
       "      <th>Fours</th>\n",
       "      <th>Sixes</th>\n",
       "      <th>HF</th>\n",
       "    </tr>\n",
       "  </thead>\n",
       "  <tbody>\n",
       "    <tr>\n",
       "      <th>1</th>\n",
       "      <td>3.301945</td>\n",
       "      <td>2.683984</td>\n",
       "      <td>1.767325</td>\n",
       "      <td>1.607207</td>\n",
       "      <td>6.462679</td>\n",
       "      <td>4.651551</td>\n",
       "    </tr>\n",
       "    <tr>\n",
       "      <th>3</th>\n",
       "      <td>2.381639</td>\n",
       "      <td>0.896390</td>\n",
       "      <td>1.036605</td>\n",
       "      <td>2.710928</td>\n",
       "      <td>1.184173</td>\n",
       "      <td>2.865038</td>\n",
       "    </tr>\n",
       "    <tr>\n",
       "      <th>5</th>\n",
       "      <td>1.770248</td>\n",
       "      <td>0.610640</td>\n",
       "      <td>1.788154</td>\n",
       "      <td>2.281703</td>\n",
       "      <td>1.435530</td>\n",
       "      <td>2.269533</td>\n",
       "    </tr>\n",
       "    <tr>\n",
       "      <th>7</th>\n",
       "      <td>1.667276</td>\n",
       "      <td>1.388883</td>\n",
       "      <td>1.297182</td>\n",
       "      <td>1.300618</td>\n",
       "      <td>1.561209</td>\n",
       "      <td>2.269533</td>\n",
       "    </tr>\n",
       "    <tr>\n",
       "      <th>9</th>\n",
       "      <td>2.246490</td>\n",
       "      <td>1.174755</td>\n",
       "      <td>0.444038</td>\n",
       "      <td>2.343021</td>\n",
       "      <td>1.309851</td>\n",
       "      <td>2.269533</td>\n",
       "    </tr>\n",
       "  </tbody>\n",
       "</table>\n",
       "</div>"
      ],
      "text/plain": [
       "       Runs       Ave        SR     Fours     Sixes        HF\n",
       "1  3.301945  2.683984  1.767325  1.607207  6.462679  4.651551\n",
       "3  2.381639  0.896390  1.036605  2.710928  1.184173  2.865038\n",
       "5  1.770248  0.610640  1.788154  2.281703  1.435530  2.269533\n",
       "7  1.667276  1.388883  1.297182  1.300618  1.561209  2.269533\n",
       "9  2.246490  1.174755  0.444038  2.343021  1.309851  2.269533"
      ]
     },
     "execution_count": 30,
     "metadata": {},
     "output_type": "execute_result"
    }
   ],
   "source": [
    "#scaling the numeric variables\n",
    "from scipy.stats import zscore\n",
    "cc = df.iloc[:,1:7] \n",
    "cc.head()\n",
    "cc1 = cc.apply(zscore)\n",
    "cc1.head()"
   ]
  },
  {
   "cell_type": "markdown",
   "metadata": {},
   "source": [
    "As we know, scaling is done to remove the skewness which various different units bring into the equation, when we re trying to identify clusters in an unlabelled data"
   ]
  },
  {
   "cell_type": "code",
   "execution_count": 25,
   "metadata": {},
   "outputs": [
    {
     "data": {
      "text/html": [
       "<div>\n",
       "<style scoped>\n",
       "    .dataframe tbody tr th:only-of-type {\n",
       "        vertical-align: middle;\n",
       "    }\n",
       "\n",
       "    .dataframe tbody tr th {\n",
       "        vertical-align: top;\n",
       "    }\n",
       "\n",
       "    .dataframe thead th {\n",
       "        text-align: right;\n",
       "    }\n",
       "</style>\n",
       "<table border=\"1\" class=\"dataframe\">\n",
       "  <thead>\n",
       "    <tr style=\"text-align: right;\">\n",
       "      <th></th>\n",
       "      <th>Name</th>\n",
       "      <th>Runs</th>\n",
       "      <th>Ave</th>\n",
       "      <th>SR</th>\n",
       "      <th>Fours</th>\n",
       "      <th>Sixes</th>\n",
       "      <th>HF</th>\n",
       "    </tr>\n",
       "  </thead>\n",
       "  <tbody>\n",
       "    <tr>\n",
       "      <th>1</th>\n",
       "      <td>CH Gayle</td>\n",
       "      <td>733.0</td>\n",
       "      <td>61.08</td>\n",
       "      <td>160.74</td>\n",
       "      <td>46.0</td>\n",
       "      <td>59.0</td>\n",
       "      <td>9.0</td>\n",
       "    </tr>\n",
       "    <tr>\n",
       "      <th>3</th>\n",
       "      <td>G Gambhir</td>\n",
       "      <td>590.0</td>\n",
       "      <td>36.87</td>\n",
       "      <td>143.55</td>\n",
       "      <td>64.0</td>\n",
       "      <td>17.0</td>\n",
       "      <td>6.0</td>\n",
       "    </tr>\n",
       "    <tr>\n",
       "      <th>5</th>\n",
       "      <td>V Sehwag</td>\n",
       "      <td>495.0</td>\n",
       "      <td>33.00</td>\n",
       "      <td>161.23</td>\n",
       "      <td>57.0</td>\n",
       "      <td>19.0</td>\n",
       "      <td>5.0</td>\n",
       "    </tr>\n",
       "    <tr>\n",
       "      <th>7</th>\n",
       "      <td>CL White</td>\n",
       "      <td>479.0</td>\n",
       "      <td>43.54</td>\n",
       "      <td>149.68</td>\n",
       "      <td>41.0</td>\n",
       "      <td>20.0</td>\n",
       "      <td>5.0</td>\n",
       "    </tr>\n",
       "    <tr>\n",
       "      <th>9</th>\n",
       "      <td>S Dhawan</td>\n",
       "      <td>569.0</td>\n",
       "      <td>40.64</td>\n",
       "      <td>129.61</td>\n",
       "      <td>58.0</td>\n",
       "      <td>18.0</td>\n",
       "      <td>5.0</td>\n",
       "    </tr>\n",
       "  </tbody>\n",
       "</table>\n",
       "</div>"
      ],
      "text/plain": [
       "        Name   Runs    Ave      SR  Fours  Sixes   HF\n",
       "1   CH Gayle  733.0  61.08  160.74   46.0   59.0  9.0\n",
       "3  G Gambhir  590.0  36.87  143.55   64.0   17.0  6.0\n",
       "5   V Sehwag  495.0  33.00  161.23   57.0   19.0  5.0\n",
       "7   CL White  479.0  43.54  149.68   41.0   20.0  5.0\n",
       "9   S Dhawan  569.0  40.64  129.61   58.0   18.0  5.0"
      ]
     },
     "execution_count": 25,
     "metadata": {},
     "output_type": "execute_result"
    }
   ],
   "source": [
    "df.head()"
   ]
  },
  {
   "cell_type": "code",
   "execution_count": 31,
   "metadata": {},
   "outputs": [
    {
     "data": {
      "text/plain": [
       "[540.0,\n",
       " 296.26135354732025,\n",
       " 223.36518460916955,\n",
       " 178.1750796759041,\n",
       " 148.52653974259806]"
      ]
     },
     "execution_count": 31,
     "metadata": {},
     "output_type": "execute_result"
    }
   ],
   "source": [
    "#checking for the within sum of squares\n",
    "from sklearn.cluster import KMeans\n",
    "from sklearn.metrics import silhouette_samples, silhouette_score\n",
    "wss =[] \n",
    "for i in range(1,6):\n",
    "    KM = KMeans(n_clusters=i)\n",
    "    KM.fit(cc1)\n",
    "    wss.append(KM.inertia_)\n",
    "wss"
   ]
  },
  {
   "cell_type": "code",
   "execution_count": 32,
   "metadata": {},
   "outputs": [
    {
     "data": {
      "image/png": "[encoded data removed]",
      "text/plain": [
       "<Figure size 432x288 with 1 Axes>"
      ]
     },
     "metadata": {
      "needs_background": "light"
     },
     "output_type": "display_data"
    }
   ],
   "source": [
    "#plotting to check for optimal clustres \n",
    "plt.plot(range(1,6), wss);\n",
    "plt.title('Elbow Method');\n",
    "plt.xlabel(\"Number of Clusters\")\n",
    "plt.ylabel(\"WSS\");"
   ]
  },
  {
   "cell_type": "markdown",
   "metadata": {},
   "source": [
    "Let's go with 2 clusters as the drop in Inertia is significant"
   ]
  },
  {
   "cell_type": "code",
   "execution_count": 34,
   "metadata": {},
   "outputs": [],
   "source": [
    "#using 2 centroids\n",
    "k_means = KMeans(n_clusters = 2)\n",
    "k_means.fit(cc1)\n",
    "labels = k_means.labels_"
   ]
  },
  {
   "cell_type": "code",
   "execution_count": 35,
   "metadata": {},
   "outputs": [
    {
     "data": {
      "text/plain": [
       "0.41111085574076756"
      ]
     },
     "execution_count": 35,
     "metadata": {},
     "output_type": "execute_result"
    }
   ],
   "source": [
    "# Calculating silhouette_score\n",
    "silhouette_score(cc1,labels)"
   ]
  },
  {
   "cell_type": "code",
   "execution_count": 36,
   "metadata": {},
   "outputs": [],
   "source": [
    "#plotting silhouette score for different centroids\n",
    "kmeans_kwargs = {\n",
    "   \"init\": \"random\",\n",
    "   \"n_init\": 10,\n",
    "   \"max_iter\": 300,\n",
    "   \"random_state\": 42,\n",
    "}\n",
    "\n",
    "\n",
    "silhouette_coefficients = []\n",
    "\n",
    " # Notice you start at 2 clusters for silhouette coefficient\n",
    "for k in range(2, 6):\n",
    "    kmeans = KMeans(n_clusters=k, **kmeans_kwargs)\n",
    "    kmeans.fit(cc1)\n",
    "    score = silhouette_score(cc1,kmeans.labels_)\n",
    "    silhouette_coefficients.append(score)"
   ]
  },
  {
   "cell_type": "code",
   "execution_count": 37,
   "metadata": {},
   "outputs": [
    {
     "data": {
      "image/png": "[encoded data removed]",
      "text/plain": [
       "<Figure size 432x288 with 1 Axes>"
      ]
     },
     "metadata": {
      "needs_background": "light"
     },
     "output_type": "display_data"
    }
   ],
   "source": [
    "plt.plot(range(2,6), silhouette_coefficients)\n",
    "plt.xticks(range(2, 6))\n",
    "plt.xlabel(\"Number of Clusters\")\n",
    "plt.ylabel(\"Silhouette Coefficient\")\n",
    "plt.show()"
   ]
  },
  {
   "cell_type": "markdown",
   "metadata": {},
   "source": [
    "The highest silhoutte coefficient is realized with 2 clusters. Hence, it is safe to assume that this entire dataset can be partitioned into 2 clusters."
   ]
  },
  {
   "cell_type": "code",
   "execution_count": 38,
   "metadata": {},
   "outputs": [
    {
     "data": {
      "text/html": [
       "<div>\n",
       "<style scoped>\n",
       "    .dataframe tbody tr th:only-of-type {\n",
       "        vertical-align: middle;\n",
       "    }\n",
       "\n",
       "    .dataframe tbody tr th {\n",
       "        vertical-align: top;\n",
       "    }\n",
       "\n",
       "    .dataframe thead th {\n",
       "        text-align: right;\n",
       "    }\n",
       "</style>\n",
       "<table border=\"1\" class=\"dataframe\">\n",
       "  <thead>\n",
       "    <tr style=\"text-align: right;\">\n",
       "      <th></th>\n",
       "      <th>Name</th>\n",
       "      <th>Runs</th>\n",
       "      <th>Ave</th>\n",
       "      <th>SR</th>\n",
       "      <th>Fours</th>\n",
       "      <th>Sixes</th>\n",
       "      <th>HF</th>\n",
       "      <th>cluster</th>\n",
       "    </tr>\n",
       "  </thead>\n",
       "  <tbody>\n",
       "    <tr>\n",
       "      <th>1</th>\n",
       "      <td>CH Gayle</td>\n",
       "      <td>733.0</td>\n",
       "      <td>61.08</td>\n",
       "      <td>160.74</td>\n",
       "      <td>46.0</td>\n",
       "      <td>59.0</td>\n",
       "      <td>9.0</td>\n",
       "      <td>1</td>\n",
       "    </tr>\n",
       "    <tr>\n",
       "      <th>3</th>\n",
       "      <td>G Gambhir</td>\n",
       "      <td>590.0</td>\n",
       "      <td>36.87</td>\n",
       "      <td>143.55</td>\n",
       "      <td>64.0</td>\n",
       "      <td>17.0</td>\n",
       "      <td>6.0</td>\n",
       "      <td>1</td>\n",
       "    </tr>\n",
       "    <tr>\n",
       "      <th>5</th>\n",
       "      <td>V Sehwag</td>\n",
       "      <td>495.0</td>\n",
       "      <td>33.00</td>\n",
       "      <td>161.23</td>\n",
       "      <td>57.0</td>\n",
       "      <td>19.0</td>\n",
       "      <td>5.0</td>\n",
       "      <td>1</td>\n",
       "    </tr>\n",
       "    <tr>\n",
       "      <th>7</th>\n",
       "      <td>CL White</td>\n",
       "      <td>479.0</td>\n",
       "      <td>43.54</td>\n",
       "      <td>149.68</td>\n",
       "      <td>41.0</td>\n",
       "      <td>20.0</td>\n",
       "      <td>5.0</td>\n",
       "      <td>1</td>\n",
       "    </tr>\n",
       "    <tr>\n",
       "      <th>9</th>\n",
       "      <td>S Dhawan</td>\n",
       "      <td>569.0</td>\n",
       "      <td>40.64</td>\n",
       "      <td>129.61</td>\n",
       "      <td>58.0</td>\n",
       "      <td>18.0</td>\n",
       "      <td>5.0</td>\n",
       "      <td>1</td>\n",
       "    </tr>\n",
       "  </tbody>\n",
       "</table>\n",
       "</div>"
      ],
      "text/plain": [
       "        Name   Runs    Ave      SR  Fours  Sixes   HF  cluster\n",
       "1   CH Gayle  733.0  61.08  160.74   46.0   59.0  9.0        1\n",
       "3  G Gambhir  590.0  36.87  143.55   64.0   17.0  6.0        1\n",
       "5   V Sehwag  495.0  33.00  161.23   57.0   19.0  5.0        1\n",
       "7   CL White  479.0  43.54  149.68   41.0   20.0  5.0        1\n",
       "9   S Dhawan  569.0  40.64  129.61   58.0   18.0  5.0        1"
      ]
     },
     "execution_count": 38,
     "metadata": {},
     "output_type": "execute_result"
    }
   ],
   "source": [
    "#attaching the labels to the original data\n",
    "df['cluster']=labels\n",
    "df.head()"
   ]
  },
  {
   "cell_type": "code",
   "execution_count": 40,
   "metadata": {},
   "outputs": [
    {
     "data": {
      "text/plain": [
       "0    55\n",
       "1    35\n",
       "Name: cluster, dtype: int64"
      ]
     },
     "execution_count": 40,
     "metadata": {},
     "output_type": "execute_result"
    }
   ],
   "source": [
    "#veiwing the distribution of the clusters\n",
    "df.cluster.value_counts().sort_index()"
   ]
  },
  {
   "cell_type": "code",
   "execution_count": 42,
   "metadata": {},
   "outputs": [],
   "source": [
    "#based on the above table renaming/ranking the playes in Grade A and Grade B\n",
    "df['cluster'] = df['cluster'].replace({1: 'Grade A', 0: 'Grade B'})"
   ]
  },
  {
   "cell_type": "code",
   "execution_count": 44,
   "metadata": {},
   "outputs": [
    {
     "data": {
      "text/html": [
       "<div>\n",
       "<style scoped>\n",
       "    .dataframe tbody tr th:only-of-type {\n",
       "        vertical-align: middle;\n",
       "    }\n",
       "\n",
       "    .dataframe tbody tr th {\n",
       "        vertical-align: top;\n",
       "    }\n",
       "\n",
       "    .dataframe thead th {\n",
       "        text-align: right;\n",
       "    }\n",
       "</style>\n",
       "<table border=\"1\" class=\"dataframe\">\n",
       "  <thead>\n",
       "    <tr style=\"text-align: right;\">\n",
       "      <th></th>\n",
       "      <th>Name</th>\n",
       "      <th>Runs</th>\n",
       "      <th>Ave</th>\n",
       "      <th>SR</th>\n",
       "      <th>Fours</th>\n",
       "      <th>Sixes</th>\n",
       "      <th>HF</th>\n",
       "      <th>cluster</th>\n",
       "    </tr>\n",
       "  </thead>\n",
       "  <tbody>\n",
       "    <tr>\n",
       "      <th>1</th>\n",
       "      <td>CH Gayle</td>\n",
       "      <td>733.0</td>\n",
       "      <td>61.08</td>\n",
       "      <td>160.74</td>\n",
       "      <td>46.0</td>\n",
       "      <td>59.0</td>\n",
       "      <td>9.0</td>\n",
       "      <td>Grade A</td>\n",
       "    </tr>\n",
       "    <tr>\n",
       "      <th>3</th>\n",
       "      <td>G Gambhir</td>\n",
       "      <td>590.0</td>\n",
       "      <td>36.87</td>\n",
       "      <td>143.55</td>\n",
       "      <td>64.0</td>\n",
       "      <td>17.0</td>\n",
       "      <td>6.0</td>\n",
       "      <td>Grade A</td>\n",
       "    </tr>\n",
       "    <tr>\n",
       "      <th>5</th>\n",
       "      <td>V Sehwag</td>\n",
       "      <td>495.0</td>\n",
       "      <td>33.00</td>\n",
       "      <td>161.23</td>\n",
       "      <td>57.0</td>\n",
       "      <td>19.0</td>\n",
       "      <td>5.0</td>\n",
       "      <td>Grade A</td>\n",
       "    </tr>\n",
       "    <tr>\n",
       "      <th>7</th>\n",
       "      <td>CL White</td>\n",
       "      <td>479.0</td>\n",
       "      <td>43.54</td>\n",
       "      <td>149.68</td>\n",
       "      <td>41.0</td>\n",
       "      <td>20.0</td>\n",
       "      <td>5.0</td>\n",
       "      <td>Grade A</td>\n",
       "    </tr>\n",
       "    <tr>\n",
       "      <th>9</th>\n",
       "      <td>S Dhawan</td>\n",
       "      <td>569.0</td>\n",
       "      <td>40.64</td>\n",
       "      <td>129.61</td>\n",
       "      <td>58.0</td>\n",
       "      <td>18.0</td>\n",
       "      <td>5.0</td>\n",
       "      <td>Grade A</td>\n",
       "    </tr>\n",
       "    <tr>\n",
       "      <th>11</th>\n",
       "      <td>AM Rahane</td>\n",
       "      <td>560.0</td>\n",
       "      <td>40.00</td>\n",
       "      <td>129.33</td>\n",
       "      <td>73.0</td>\n",
       "      <td>10.0</td>\n",
       "      <td>5.0</td>\n",
       "      <td>Grade A</td>\n",
       "    </tr>\n",
       "    <tr>\n",
       "      <th>13</th>\n",
       "      <td>KP Pietersen</td>\n",
       "      <td>305.0</td>\n",
       "      <td>61.00</td>\n",
       "      <td>147.34</td>\n",
       "      <td>22.0</td>\n",
       "      <td>20.0</td>\n",
       "      <td>3.0</td>\n",
       "      <td>Grade A</td>\n",
       "    </tr>\n",
       "    <tr>\n",
       "      <th>15</th>\n",
       "      <td>RG Sharma</td>\n",
       "      <td>433.0</td>\n",
       "      <td>30.92</td>\n",
       "      <td>126.60</td>\n",
       "      <td>39.0</td>\n",
       "      <td>18.0</td>\n",
       "      <td>5.0</td>\n",
       "      <td>Grade A</td>\n",
       "    </tr>\n",
       "    <tr>\n",
       "      <th>17</th>\n",
       "      <td>AB de Villiers</td>\n",
       "      <td>319.0</td>\n",
       "      <td>39.87</td>\n",
       "      <td>161.11</td>\n",
       "      <td>26.0</td>\n",
       "      <td>15.0</td>\n",
       "      <td>3.0</td>\n",
       "      <td>Grade A</td>\n",
       "    </tr>\n",
       "    <tr>\n",
       "      <th>19</th>\n",
       "      <td>JP Duminy</td>\n",
       "      <td>244.0</td>\n",
       "      <td>81.33</td>\n",
       "      <td>128.42</td>\n",
       "      <td>13.0</td>\n",
       "      <td>11.0</td>\n",
       "      <td>2.0</td>\n",
       "      <td>Grade A</td>\n",
       "    </tr>\n",
       "  </tbody>\n",
       "</table>\n",
       "</div>"
      ],
      "text/plain": [
       "              Name   Runs    Ave      SR  Fours  Sixes   HF  cluster\n",
       "1         CH Gayle  733.0  61.08  160.74   46.0   59.0  9.0  Grade A\n",
       "3        G Gambhir  590.0  36.87  143.55   64.0   17.0  6.0  Grade A\n",
       "5         V Sehwag  495.0  33.00  161.23   57.0   19.0  5.0  Grade A\n",
       "7         CL White  479.0  43.54  149.68   41.0   20.0  5.0  Grade A\n",
       "9         S Dhawan  569.0  40.64  129.61   58.0   18.0  5.0  Grade A\n",
       "11       AM Rahane  560.0  40.00  129.33   73.0   10.0  5.0  Grade A\n",
       "13    KP Pietersen  305.0  61.00  147.34   22.0   20.0  3.0  Grade A\n",
       "15       RG Sharma  433.0  30.92  126.60   39.0   18.0  5.0  Grade A\n",
       "17  AB de Villiers  319.0  39.87  161.11   26.0   15.0  3.0  Grade A\n",
       "19       JP Duminy  244.0  81.33  128.42   13.0   11.0  2.0  Grade A"
      ]
     },
     "execution_count": 44,
     "metadata": {},
     "output_type": "execute_result"
    }
   ],
   "source": [
    "#list of Grade A players\n",
    "Grade_A = df[df['cluster'] == 'Grade A']\n",
    "Grade_A.head(10)"
   ]
  },
  {
   "cell_type": "code",
   "execution_count": 46,
   "metadata": {},
   "outputs": [
    {
     "data": {
      "text/html": [
       "<div>\n",
       "<style scoped>\n",
       "    .dataframe tbody tr th:only-of-type {\n",
       "        vertical-align: middle;\n",
       "    }\n",
       "\n",
       "    .dataframe tbody tr th {\n",
       "        vertical-align: top;\n",
       "    }\n",
       "\n",
       "    .dataframe thead th {\n",
       "        text-align: right;\n",
       "    }\n",
       "</style>\n",
       "<table border=\"1\" class=\"dataframe\">\n",
       "  <thead>\n",
       "    <tr style=\"text-align: right;\">\n",
       "      <th></th>\n",
       "      <th>Name</th>\n",
       "      <th>Runs</th>\n",
       "      <th>Ave</th>\n",
       "      <th>SR</th>\n",
       "      <th>Fours</th>\n",
       "      <th>Sixes</th>\n",
       "      <th>HF</th>\n",
       "      <th>cluster</th>\n",
       "    </tr>\n",
       "  </thead>\n",
       "  <tbody>\n",
       "    <tr>\n",
       "      <th>69</th>\n",
       "      <td>MS Bisla</td>\n",
       "      <td>213.0</td>\n",
       "      <td>30.42</td>\n",
       "      <td>133.12</td>\n",
       "      <td>16.0</td>\n",
       "      <td>10.0</td>\n",
       "      <td>1.0</td>\n",
       "      <td>Grade B</td>\n",
       "    </tr>\n",
       "    <tr>\n",
       "      <th>73</th>\n",
       "      <td>BJ Hodge</td>\n",
       "      <td>245.0</td>\n",
       "      <td>30.62</td>\n",
       "      <td>140.00</td>\n",
       "      <td>18.0</td>\n",
       "      <td>9.0</td>\n",
       "      <td>0.0</td>\n",
       "      <td>Grade B</td>\n",
       "    </tr>\n",
       "    <tr>\n",
       "      <th>75</th>\n",
       "      <td>NV Ojha</td>\n",
       "      <td>255.0</td>\n",
       "      <td>23.18</td>\n",
       "      <td>113.83</td>\n",
       "      <td>21.0</td>\n",
       "      <td>13.0</td>\n",
       "      <td>1.0</td>\n",
       "      <td>Grade B</td>\n",
       "    </tr>\n",
       "    <tr>\n",
       "      <th>77</th>\n",
       "      <td>DB Das</td>\n",
       "      <td>126.0</td>\n",
       "      <td>42.00</td>\n",
       "      <td>135.48</td>\n",
       "      <td>9.0</td>\n",
       "      <td>6.0</td>\n",
       "      <td>0.0</td>\n",
       "      <td>Grade B</td>\n",
       "    </tr>\n",
       "    <tr>\n",
       "      <th>79</th>\n",
       "      <td>AC Gilchrist</td>\n",
       "      <td>172.0</td>\n",
       "      <td>34.40</td>\n",
       "      <td>120.27</td>\n",
       "      <td>21.0</td>\n",
       "      <td>4.0</td>\n",
       "      <td>1.0</td>\n",
       "      <td>Grade B</td>\n",
       "    </tr>\n",
       "  </tbody>\n",
       "</table>\n",
       "</div>"
      ],
      "text/plain": [
       "            Name   Runs    Ave      SR  Fours  Sixes   HF  cluster\n",
       "69      MS Bisla  213.0  30.42  133.12   16.0   10.0  1.0  Grade B\n",
       "73      BJ Hodge  245.0  30.62  140.00   18.0    9.0  0.0  Grade B\n",
       "75       NV Ojha  255.0  23.18  113.83   21.0   13.0  1.0  Grade B\n",
       "77        DB Das  126.0  42.00  135.48    9.0    6.0  0.0  Grade B\n",
       "79  AC Gilchrist  172.0  34.40  120.27   21.0    4.0  1.0  Grade B"
      ]
     },
     "execution_count": 46,
     "metadata": {},
     "output_type": "execute_result"
    }
   ],
   "source": [
    "#list of Grade B players\n",
    "Grade_B = df[df['cluster'] == 'Grade B']\n",
    "Grade_B.head()"
   ]
  },
  {
   "cell_type": "markdown",
   "metadata": {},
   "source": [
    " Hence, we have been able to rate the batsmen into broadly two grades based on the Stats at hand\n",
    " \n",
    " <b>END</b>"
   ]
  },
  {
   "cell_type": "code",
   "execution_count": null,
   "metadata": {},
   "outputs": [],
   "source": []
  }
 ],
 "metadata": {
  "kernelspec": {
   "display_name": "Python 3",
   "language": "python",
   "name": "python3"
  },
  "language_info": {
   "codemirror_mode": {
    "name": "ipython",
    "version": 3
   },
   "file_extension": ".py",
   "mimetype": "text/x-python",
   "name": "python",
   "nbconvert_exporter": "python",
   "pygments_lexer": "ipython3",
   "version": "3.7.3"
  }
 },
 "nbformat": 4,
 "nbformat_minor": 2
}
